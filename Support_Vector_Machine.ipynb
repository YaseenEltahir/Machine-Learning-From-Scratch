{
  "nbformat": 4,
  "nbformat_minor": 0,
  "metadata": {
    "colab": {
      "name": "Support_Vector_Machine.ipynb",
      "provenance": [],
      "collapsed_sections": []
    },
    "kernelspec": {
      "name": "python3",
      "display_name": "Python 3"
    },
    "language_info": {
      "name": "python"
    }
  },
  "cells": [
    {
      "cell_type": "markdown",
      "source": [
        "# **Implementing SVM from scratch**\n",
        "In this tutorial, SVM will be coded from scratch, tested on linearly seprable data, and non-linearly seprable dataset (Text Classification)"
      ],
      "metadata": {
        "id": "p4jaL94v0kmn"
      }
    },
    {
      "cell_type": "markdown",
      "source": [
        "Importing libraries"
      ],
      "metadata": {
        "id": "d0DuGJch3ZA0"
      }
    },
    {
      "cell_type": "code",
      "execution_count": 2,
      "metadata": {
        "id": "9Zjc-5mcP03O"
      },
      "outputs": [],
      "source": [
        "# importing some basic libraries\n",
        "%matplotlib inline\n",
        "import matplotlib.pyplot as plt\n",
        "from matplotlib import style\n",
        "import numpy as np\n",
        "import pandas as pd\n",
        "style.use('ggplot')"
      ]
    },
    {
      "cell_type": "markdown",
      "source": [
        "# Text data download and preprocessing"
      ],
      "metadata": {
        "id": "QwDHxeKt1w1y"
      }
    },
    {
      "cell_type": "code",
      "source": [
        "df = pd.read_csv('/content/processed_data1.csv')\n",
        "df.head()"
      ],
      "metadata": {
        "colab": {
          "base_uri": "https://localhost:8080/",
          "height": 204
        },
        "id": "QOI_qKuTV7io",
        "outputId": "c6f03499-13ee-4b8d-de47-0b6e7578eb48"
      },
      "execution_count": 3,
      "outputs": [
        {
          "output_type": "execute_result",
          "data": {
            "text/plain": [
              "                                              review sentiment\n",
              "0  one review ha mention watch 1 Oz episod youll ...  positive\n",
              "1  wonder littl product film techniqu veri unassu...  positive\n",
              "2  thought thi wa wonder way spend time hot summe...  positive\n",
              "3  basic famili littl boy jake think zombi hi clo...  negative\n",
              "4  petter mattei love time money visual stun film...  positive"
            ],
            "text/html": [
              "\n",
              "  <div id=\"df-65761dbd-c572-4fd9-8697-e87520645c5c\">\n",
              "    <div class=\"colab-df-container\">\n",
              "      <div>\n",
              "<style scoped>\n",
              "    .dataframe tbody tr th:only-of-type {\n",
              "        vertical-align: middle;\n",
              "    }\n",
              "\n",
              "    .dataframe tbody tr th {\n",
              "        vertical-align: top;\n",
              "    }\n",
              "\n",
              "    .dataframe thead th {\n",
              "        text-align: right;\n",
              "    }\n",
              "</style>\n",
              "<table border=\"1\" class=\"dataframe\">\n",
              "  <thead>\n",
              "    <tr style=\"text-align: right;\">\n",
              "      <th></th>\n",
              "      <th>review</th>\n",
              "      <th>sentiment</th>\n",
              "    </tr>\n",
              "  </thead>\n",
              "  <tbody>\n",
              "    <tr>\n",
              "      <th>0</th>\n",
              "      <td>one review ha mention watch 1 Oz episod youll ...</td>\n",
              "      <td>positive</td>\n",
              "    </tr>\n",
              "    <tr>\n",
              "      <th>1</th>\n",
              "      <td>wonder littl product film techniqu veri unassu...</td>\n",
              "      <td>positive</td>\n",
              "    </tr>\n",
              "    <tr>\n",
              "      <th>2</th>\n",
              "      <td>thought thi wa wonder way spend time hot summe...</td>\n",
              "      <td>positive</td>\n",
              "    </tr>\n",
              "    <tr>\n",
              "      <th>3</th>\n",
              "      <td>basic famili littl boy jake think zombi hi clo...</td>\n",
              "      <td>negative</td>\n",
              "    </tr>\n",
              "    <tr>\n",
              "      <th>4</th>\n",
              "      <td>petter mattei love time money visual stun film...</td>\n",
              "      <td>positive</td>\n",
              "    </tr>\n",
              "  </tbody>\n",
              "</table>\n",
              "</div>\n",
              "      <button class=\"colab-df-convert\" onclick=\"convertToInteractive('df-65761dbd-c572-4fd9-8697-e87520645c5c')\"\n",
              "              title=\"Convert this dataframe to an interactive table.\"\n",
              "              style=\"display:none;\">\n",
              "        \n",
              "  <svg xmlns=\"http://www.w3.org/2000/svg\" height=\"24px\"viewBox=\"0 0 24 24\"\n",
              "       width=\"24px\">\n",
              "    <path d=\"M0 0h24v24H0V0z\" fill=\"none\"/>\n",
              "    <path d=\"M18.56 5.44l.94 2.06.94-2.06 2.06-.94-2.06-.94-.94-2.06-.94 2.06-2.06.94zm-11 1L8.5 8.5l.94-2.06 2.06-.94-2.06-.94L8.5 2.5l-.94 2.06-2.06.94zm10 10l.94 2.06.94-2.06 2.06-.94-2.06-.94-.94-2.06-.94 2.06-2.06.94z\"/><path d=\"M17.41 7.96l-1.37-1.37c-.4-.4-.92-.59-1.43-.59-.52 0-1.04.2-1.43.59L10.3 9.45l-7.72 7.72c-.78.78-.78 2.05 0 2.83L4 21.41c.39.39.9.59 1.41.59.51 0 1.02-.2 1.41-.59l7.78-7.78 2.81-2.81c.8-.78.8-2.07 0-2.86zM5.41 20L4 18.59l7.72-7.72 1.47 1.35L5.41 20z\"/>\n",
              "  </svg>\n",
              "      </button>\n",
              "      \n",
              "  <style>\n",
              "    .colab-df-container {\n",
              "      display:flex;\n",
              "      flex-wrap:wrap;\n",
              "      gap: 12px;\n",
              "    }\n",
              "\n",
              "    .colab-df-convert {\n",
              "      background-color: #E8F0FE;\n",
              "      border: none;\n",
              "      border-radius: 50%;\n",
              "      cursor: pointer;\n",
              "      display: none;\n",
              "      fill: #1967D2;\n",
              "      height: 32px;\n",
              "      padding: 0 0 0 0;\n",
              "      width: 32px;\n",
              "    }\n",
              "\n",
              "    .colab-df-convert:hover {\n",
              "      background-color: #E2EBFA;\n",
              "      box-shadow: 0px 1px 2px rgba(60, 64, 67, 0.3), 0px 1px 3px 1px rgba(60, 64, 67, 0.15);\n",
              "      fill: #174EA6;\n",
              "    }\n",
              "\n",
              "    [theme=dark] .colab-df-convert {\n",
              "      background-color: #3B4455;\n",
              "      fill: #D2E3FC;\n",
              "    }\n",
              "\n",
              "    [theme=dark] .colab-df-convert:hover {\n",
              "      background-color: #434B5C;\n",
              "      box-shadow: 0px 1px 3px 1px rgba(0, 0, 0, 0.15);\n",
              "      filter: drop-shadow(0px 1px 2px rgba(0, 0, 0, 0.3));\n",
              "      fill: #FFFFFF;\n",
              "    }\n",
              "  </style>\n",
              "\n",
              "      <script>\n",
              "        const buttonEl =\n",
              "          document.querySelector('#df-65761dbd-c572-4fd9-8697-e87520645c5c button.colab-df-convert');\n",
              "        buttonEl.style.display =\n",
              "          google.colab.kernel.accessAllowed ? 'block' : 'none';\n",
              "\n",
              "        async function convertToInteractive(key) {\n",
              "          const element = document.querySelector('#df-65761dbd-c572-4fd9-8697-e87520645c5c');\n",
              "          const dataTable =\n",
              "            await google.colab.kernel.invokeFunction('convertToInteractive',\n",
              "                                                     [key], {});\n",
              "          if (!dataTable) return;\n",
              "\n",
              "          const docLinkHtml = 'Like what you see? Visit the ' +\n",
              "            '<a target=\"_blank\" href=https://colab.research.google.com/notebooks/data_table.ipynb>data table notebook</a>'\n",
              "            + ' to learn more about interactive tables.';\n",
              "          element.innerHTML = '';\n",
              "          dataTable['output_type'] = 'display_data';\n",
              "          await google.colab.output.renderOutput(dataTable, element);\n",
              "          const docLink = document.createElement('div');\n",
              "          docLink.innerHTML = docLinkHtml;\n",
              "          element.appendChild(docLink);\n",
              "        }\n",
              "      </script>\n",
              "    </div>\n",
              "  </div>\n",
              "  "
            ]
          },
          "metadata": {},
          "execution_count": 3
        }
      ]
    },
    {
      "cell_type": "code",
      "source": [
        "sent = pd.Series(np.where(df.sentiment.values == 'positive',1,0))\n",
        "sent\n",
        "y_train = sent[0:399]\n",
        "y_test = sent[400:499]\n",
        "y_train.head()"
      ],
      "metadata": {
        "colab": {
          "base_uri": "https://localhost:8080/"
        },
        "id": "njUnv2tLWgm3",
        "outputId": "4be327ed-14bf-402d-a98f-c2cc39e483b8"
      },
      "execution_count": 4,
      "outputs": [
        {
          "output_type": "execute_result",
          "data": {
            "text/plain": [
              "0    1\n",
              "1    1\n",
              "2    1\n",
              "3    0\n",
              "4    1\n",
              "dtype: int64"
            ]
          },
          "metadata": {},
          "execution_count": 4
        }
      ]
    },
    {
      "cell_type": "code",
      "source": [
        "docs = df.review.to_numpy().tolist()\n",
        "len(docs)"
      ],
      "metadata": {
        "colab": {
          "base_uri": "https://localhost:8080/"
        },
        "id": "BxpizP1wWlgb",
        "outputId": "94048b5b-30ad-421f-cb81-665fa54c241a"
      },
      "execution_count": 5,
      "outputs": [
        {
          "output_type": "execute_result",
          "data": {
            "text/plain": [
              "50000"
            ]
          },
          "metadata": {},
          "execution_count": 5
        }
      ]
    },
    {
      "cell_type": "code",
      "source": [
        "bows=[]\n",
        "for doc in docs[0:499]:\n",
        "  bows.append(doc.split(\" \"))\n",
        "sets=[]\n",
        "for s in bows:\n",
        "  sets.append(set(s))\n",
        "wordSet=set().union(*sets)\n",
        "len(wordSet)"
      ],
      "metadata": {
        "colab": {
          "base_uri": "https://localhost:8080/"
        },
        "id": "Kr053T6PWqBO",
        "outputId": "3cbedb80-7300-44f3-89de-dde56f0a28e4"
      },
      "execution_count": 6,
      "outputs": [
        {
          "output_type": "execute_result",
          "data": {
            "text/plain": [
              "10772"
            ]
          },
          "metadata": {},
          "execution_count": 6
        }
      ]
    },
    {
      "cell_type": "code",
      "source": [
        "wordDicts=[]\n",
        "for bow in bows:\n",
        "  wordDict =dict.fromkeys(wordSet,0)\n",
        "  for word in bow:\n",
        "    wordDict[word]+=1\n",
        "    wordDicts.append(wordDict)"
      ],
      "metadata": {
        "id": "PmZlxw0pWsme"
      },
      "execution_count": 7,
      "outputs": []
    },
    {
      "cell_type": "code",
      "source": [
        "def computeTF(wordDict,bow):\n",
        "    tfDict = {}\n",
        "    bowCount = len(bow)\n",
        "    for word,count in wordDict.items():\n",
        "        tfDict[word] = count/float(bowCount)\n",
        "    return tfDict"
      ],
      "metadata": {
        "id": "2LFS7cIoWxnT"
      },
      "execution_count": 8,
      "outputs": []
    },
    {
      "cell_type": "code",
      "source": [
        "tfBows=[]\n",
        "for i in range(len(bows)):\n",
        "  tfBows.append(computeTF(wordDicts[i],bows[i]))"
      ],
      "metadata": {
        "id": "d-EW6NT2W1bC"
      },
      "execution_count": 9,
      "outputs": []
    },
    {
      "cell_type": "code",
      "source": [
        "def computeIDF(docList):\n",
        "    import math\n",
        "    idfDict = {}\n",
        "    N = len(docList)\n",
        "\n",
        "    idfDict = dict.fromkeys(docList[0].keys(),0)\n",
        "    \n",
        "    #Lets find the number of docs which contain word(Wi)\n",
        "    for doc in docList:\n",
        "        for word,val in doc.items():\n",
        "            if val >0:\n",
        "                idfDict[word]+=1\n",
        "    #IDF calculation\n",
        "    for word,val in idfDict.items():\n",
        "        idfDict[word] = math.log10((N+1)/(float(val)+1.0))+1\n",
        "    return idfDict"
      ],
      "metadata": {
        "id": "aZ54A3a-W5Gc"
      },
      "execution_count": 10,
      "outputs": []
    },
    {
      "cell_type": "code",
      "source": [
        "idfs = computeIDF([wordDict for wordDict in wordDicts])"
      ],
      "metadata": {
        "id": "5hGD8IM1W81P"
      },
      "execution_count": 11,
      "outputs": []
    },
    {
      "cell_type": "code",
      "source": [
        "def computeTFIDF(tfBow,idfs):\n",
        "    tfidf ={}\n",
        "    for word, val in tfBow.items():\n",
        "        tfidf[word] = val*idfs[word]\n",
        "    return tfidf"
      ],
      "metadata": {
        "id": "QPjRYrc7XG3L"
      },
      "execution_count": 12,
      "outputs": []
    },
    {
      "cell_type": "code",
      "source": [
        "tfidfBows=[]\n",
        "for i in range(len(bows)):\n",
        "  tfidfBows.append(computeTFIDF(tfBows[i],idfs))"
      ],
      "metadata": {
        "id": "q1wWqxlpXGpw"
      },
      "execution_count": 13,
      "outputs": []
    },
    {
      "cell_type": "code",
      "source": [
        "import pandas as pd\n",
        "data_final_representaion=pd.DataFrame([tfidfBow for tfidfBow in tfidfBows])\n",
        "data_final_representaion.head()"
      ],
      "metadata": {
        "colab": {
          "base_uri": "https://localhost:8080/",
          "height": 297
        },
        "id": "vp6nwBo6XM1X",
        "outputId": "e0393dec-3410-45c5-bba3-135fdcef2a47"
      },
      "execution_count": 14,
      "outputs": [
        {
          "output_type": "execute_result",
          "data": {
            "text/plain": [
              "   ceasarean  1952  quaid  tenni  must  priscilla  congress  wander  \\\n",
              "0        0.0   0.0    0.0    0.0   0.0        0.0       0.0     0.0   \n",
              "1        0.0   0.0    0.0    0.0   0.0        0.0       0.0     0.0   \n",
              "2        0.0   0.0    0.0    0.0   0.0        0.0       0.0     0.0   \n",
              "3        0.0   0.0    0.0    0.0   0.0        0.0       0.0     0.0   \n",
              "4        0.0   0.0    0.0    0.0   0.0        0.0       0.0     0.0   \n",
              "\n",
              "   difficult  basterd  ...  hit  overdramat  cervi   italian  archaeologist  \\\n",
              "0        0.0      0.0  ...  0.0         0.0    0.0  0.014898            0.0   \n",
              "1        0.0      0.0  ...  0.0         0.0    0.0  0.028651            0.0   \n",
              "2        0.0      0.0  ...  0.0         0.0    0.0  0.027736            0.0   \n",
              "3        0.0      0.0  ...  0.0         0.0    0.0  0.038914            0.0   \n",
              "4        0.0      0.0  ...  0.0         0.0    0.0  0.020056            0.0   \n",
              "\n",
              "   grier  boat  innuendo  snob  phoni  \n",
              "0    0.0   0.0       0.0   0.0    0.0  \n",
              "1    0.0   0.0       0.0   0.0    0.0  \n",
              "2    0.0   0.0       0.0   0.0    0.0  \n",
              "3    0.0   0.0       0.0   0.0    0.0  \n",
              "4    0.0   0.0       0.0   0.0    0.0  \n",
              "\n",
              "[5 rows x 10772 columns]"
            ],
            "text/html": [
              "\n",
              "  <div id=\"df-9bcdcf4f-d71b-452e-a01b-7f66023d2871\">\n",
              "    <div class=\"colab-df-container\">\n",
              "      <div>\n",
              "<style scoped>\n",
              "    .dataframe tbody tr th:only-of-type {\n",
              "        vertical-align: middle;\n",
              "    }\n",
              "\n",
              "    .dataframe tbody tr th {\n",
              "        vertical-align: top;\n",
              "    }\n",
              "\n",
              "    .dataframe thead th {\n",
              "        text-align: right;\n",
              "    }\n",
              "</style>\n",
              "<table border=\"1\" class=\"dataframe\">\n",
              "  <thead>\n",
              "    <tr style=\"text-align: right;\">\n",
              "      <th></th>\n",
              "      <th>ceasarean</th>\n",
              "      <th>1952</th>\n",
              "      <th>quaid</th>\n",
              "      <th>tenni</th>\n",
              "      <th>must</th>\n",
              "      <th>priscilla</th>\n",
              "      <th>congress</th>\n",
              "      <th>wander</th>\n",
              "      <th>difficult</th>\n",
              "      <th>basterd</th>\n",
              "      <th>...</th>\n",
              "      <th>hit</th>\n",
              "      <th>overdramat</th>\n",
              "      <th>cervi</th>\n",
              "      <th>italian</th>\n",
              "      <th>archaeologist</th>\n",
              "      <th>grier</th>\n",
              "      <th>boat</th>\n",
              "      <th>innuendo</th>\n",
              "      <th>snob</th>\n",
              "      <th>phoni</th>\n",
              "    </tr>\n",
              "  </thead>\n",
              "  <tbody>\n",
              "    <tr>\n",
              "      <th>0</th>\n",
              "      <td>0.0</td>\n",
              "      <td>0.0</td>\n",
              "      <td>0.0</td>\n",
              "      <td>0.0</td>\n",
              "      <td>0.0</td>\n",
              "      <td>0.0</td>\n",
              "      <td>0.0</td>\n",
              "      <td>0.0</td>\n",
              "      <td>0.0</td>\n",
              "      <td>0.0</td>\n",
              "      <td>...</td>\n",
              "      <td>0.0</td>\n",
              "      <td>0.0</td>\n",
              "      <td>0.0</td>\n",
              "      <td>0.014898</td>\n",
              "      <td>0.0</td>\n",
              "      <td>0.0</td>\n",
              "      <td>0.0</td>\n",
              "      <td>0.0</td>\n",
              "      <td>0.0</td>\n",
              "      <td>0.0</td>\n",
              "    </tr>\n",
              "    <tr>\n",
              "      <th>1</th>\n",
              "      <td>0.0</td>\n",
              "      <td>0.0</td>\n",
              "      <td>0.0</td>\n",
              "      <td>0.0</td>\n",
              "      <td>0.0</td>\n",
              "      <td>0.0</td>\n",
              "      <td>0.0</td>\n",
              "      <td>0.0</td>\n",
              "      <td>0.0</td>\n",
              "      <td>0.0</td>\n",
              "      <td>...</td>\n",
              "      <td>0.0</td>\n",
              "      <td>0.0</td>\n",
              "      <td>0.0</td>\n",
              "      <td>0.028651</td>\n",
              "      <td>0.0</td>\n",
              "      <td>0.0</td>\n",
              "      <td>0.0</td>\n",
              "      <td>0.0</td>\n",
              "      <td>0.0</td>\n",
              "      <td>0.0</td>\n",
              "    </tr>\n",
              "    <tr>\n",
              "      <th>2</th>\n",
              "      <td>0.0</td>\n",
              "      <td>0.0</td>\n",
              "      <td>0.0</td>\n",
              "      <td>0.0</td>\n",
              "      <td>0.0</td>\n",
              "      <td>0.0</td>\n",
              "      <td>0.0</td>\n",
              "      <td>0.0</td>\n",
              "      <td>0.0</td>\n",
              "      <td>0.0</td>\n",
              "      <td>...</td>\n",
              "      <td>0.0</td>\n",
              "      <td>0.0</td>\n",
              "      <td>0.0</td>\n",
              "      <td>0.027736</td>\n",
              "      <td>0.0</td>\n",
              "      <td>0.0</td>\n",
              "      <td>0.0</td>\n",
              "      <td>0.0</td>\n",
              "      <td>0.0</td>\n",
              "      <td>0.0</td>\n",
              "    </tr>\n",
              "    <tr>\n",
              "      <th>3</th>\n",
              "      <td>0.0</td>\n",
              "      <td>0.0</td>\n",
              "      <td>0.0</td>\n",
              "      <td>0.0</td>\n",
              "      <td>0.0</td>\n",
              "      <td>0.0</td>\n",
              "      <td>0.0</td>\n",
              "      <td>0.0</td>\n",
              "      <td>0.0</td>\n",
              "      <td>0.0</td>\n",
              "      <td>...</td>\n",
              "      <td>0.0</td>\n",
              "      <td>0.0</td>\n",
              "      <td>0.0</td>\n",
              "      <td>0.038914</td>\n",
              "      <td>0.0</td>\n",
              "      <td>0.0</td>\n",
              "      <td>0.0</td>\n",
              "      <td>0.0</td>\n",
              "      <td>0.0</td>\n",
              "      <td>0.0</td>\n",
              "    </tr>\n",
              "    <tr>\n",
              "      <th>4</th>\n",
              "      <td>0.0</td>\n",
              "      <td>0.0</td>\n",
              "      <td>0.0</td>\n",
              "      <td>0.0</td>\n",
              "      <td>0.0</td>\n",
              "      <td>0.0</td>\n",
              "      <td>0.0</td>\n",
              "      <td>0.0</td>\n",
              "      <td>0.0</td>\n",
              "      <td>0.0</td>\n",
              "      <td>...</td>\n",
              "      <td>0.0</td>\n",
              "      <td>0.0</td>\n",
              "      <td>0.0</td>\n",
              "      <td>0.020056</td>\n",
              "      <td>0.0</td>\n",
              "      <td>0.0</td>\n",
              "      <td>0.0</td>\n",
              "      <td>0.0</td>\n",
              "      <td>0.0</td>\n",
              "      <td>0.0</td>\n",
              "    </tr>\n",
              "  </tbody>\n",
              "</table>\n",
              "<p>5 rows × 10772 columns</p>\n",
              "</div>\n",
              "      <button class=\"colab-df-convert\" onclick=\"convertToInteractive('df-9bcdcf4f-d71b-452e-a01b-7f66023d2871')\"\n",
              "              title=\"Convert this dataframe to an interactive table.\"\n",
              "              style=\"display:none;\">\n",
              "        \n",
              "  <svg xmlns=\"http://www.w3.org/2000/svg\" height=\"24px\"viewBox=\"0 0 24 24\"\n",
              "       width=\"24px\">\n",
              "    <path d=\"M0 0h24v24H0V0z\" fill=\"none\"/>\n",
              "    <path d=\"M18.56 5.44l.94 2.06.94-2.06 2.06-.94-2.06-.94-.94-2.06-.94 2.06-2.06.94zm-11 1L8.5 8.5l.94-2.06 2.06-.94-2.06-.94L8.5 2.5l-.94 2.06-2.06.94zm10 10l.94 2.06.94-2.06 2.06-.94-2.06-.94-.94-2.06-.94 2.06-2.06.94z\"/><path d=\"M17.41 7.96l-1.37-1.37c-.4-.4-.92-.59-1.43-.59-.52 0-1.04.2-1.43.59L10.3 9.45l-7.72 7.72c-.78.78-.78 2.05 0 2.83L4 21.41c.39.39.9.59 1.41.59.51 0 1.02-.2 1.41-.59l7.78-7.78 2.81-2.81c.8-.78.8-2.07 0-2.86zM5.41 20L4 18.59l7.72-7.72 1.47 1.35L5.41 20z\"/>\n",
              "  </svg>\n",
              "      </button>\n",
              "      \n",
              "  <style>\n",
              "    .colab-df-container {\n",
              "      display:flex;\n",
              "      flex-wrap:wrap;\n",
              "      gap: 12px;\n",
              "    }\n",
              "\n",
              "    .colab-df-convert {\n",
              "      background-color: #E8F0FE;\n",
              "      border: none;\n",
              "      border-radius: 50%;\n",
              "      cursor: pointer;\n",
              "      display: none;\n",
              "      fill: #1967D2;\n",
              "      height: 32px;\n",
              "      padding: 0 0 0 0;\n",
              "      width: 32px;\n",
              "    }\n",
              "\n",
              "    .colab-df-convert:hover {\n",
              "      background-color: #E2EBFA;\n",
              "      box-shadow: 0px 1px 2px rgba(60, 64, 67, 0.3), 0px 1px 3px 1px rgba(60, 64, 67, 0.15);\n",
              "      fill: #174EA6;\n",
              "    }\n",
              "\n",
              "    [theme=dark] .colab-df-convert {\n",
              "      background-color: #3B4455;\n",
              "      fill: #D2E3FC;\n",
              "    }\n",
              "\n",
              "    [theme=dark] .colab-df-convert:hover {\n",
              "      background-color: #434B5C;\n",
              "      box-shadow: 0px 1px 3px 1px rgba(0, 0, 0, 0.15);\n",
              "      filter: drop-shadow(0px 1px 2px rgba(0, 0, 0, 0.3));\n",
              "      fill: #FFFFFF;\n",
              "    }\n",
              "  </style>\n",
              "\n",
              "      <script>\n",
              "        const buttonEl =\n",
              "          document.querySelector('#df-9bcdcf4f-d71b-452e-a01b-7f66023d2871 button.colab-df-convert');\n",
              "        buttonEl.style.display =\n",
              "          google.colab.kernel.accessAllowed ? 'block' : 'none';\n",
              "\n",
              "        async function convertToInteractive(key) {\n",
              "          const element = document.querySelector('#df-9bcdcf4f-d71b-452e-a01b-7f66023d2871');\n",
              "          const dataTable =\n",
              "            await google.colab.kernel.invokeFunction('convertToInteractive',\n",
              "                                                     [key], {});\n",
              "          if (!dataTable) return;\n",
              "\n",
              "          const docLinkHtml = 'Like what you see? Visit the ' +\n",
              "            '<a target=\"_blank\" href=https://colab.research.google.com/notebooks/data_table.ipynb>data table notebook</a>'\n",
              "            + ' to learn more about interactive tables.';\n",
              "          element.innerHTML = '';\n",
              "          dataTable['output_type'] = 'display_data';\n",
              "          await google.colab.output.renderOutput(dataTable, element);\n",
              "          const docLink = document.createElement('div');\n",
              "          docLink.innerHTML = docLinkHtml;\n",
              "          element.appendChild(docLink);\n",
              "        }\n",
              "      </script>\n",
              "    </div>\n",
              "  </div>\n",
              "  "
            ]
          },
          "metadata": {},
          "execution_count": 14
        }
      ]
    },
    {
      "cell_type": "code",
      "source": [
        "#finalizing data\n",
        "X_train = data_final_representaion[0:399]\n",
        "X_test = data_final_representaion[400:499]\n",
        "X_train = np.array(X_train)\n",
        "X_test = np.array(X_test)\n",
        "y_train = np.array(y_train)\n",
        "y_test = np.array(y_test)\n",
        "y_train = np.where(y_train <= 0, -1, 1)\n",
        "y_test = np.where(y_test <= 0, -1, 1)"
      ],
      "metadata": {
        "id": "fBX55s46Xrwp"
      },
      "execution_count": 16,
      "outputs": []
    },
    {
      "cell_type": "markdown",
      "source": [
        "# SVM Implementation"
      ],
      "metadata": {
        "id": "kXk31eAB2Psd"
      }
    },
    {
      "cell_type": "code",
      "source": [
        "import numpy as np\n",
        "from sklearn import metrics\n",
        "\n",
        "class SVM:\n",
        "    def __init__(self, learning_rate=0.001, lambda_param=0.01, n_iters=1000):\n",
        "        self.lr = learning_rate\n",
        "        self.lambda_param = lambda_param\n",
        "        self.n_iters = n_iters\n",
        "        self.w = None\n",
        "        self.b = None\n",
        "\n",
        "    ##\n",
        "      #fuction for training\n",
        "    ##\n",
        "    def fit(self, X, y,x_test=[],y_test=[]):\n",
        "        n_samples, n_features = X.shape\n",
        "        #insure data in correct form\n",
        "        y_ = np.where(y <= 0, -1, 1)\n",
        "        #how to initialize the wights (width=n_features as the input has):\n",
        "        self.w = np.random.rand(n_features)\n",
        "        #initialize bias\n",
        "        self.b = 0\n",
        "\n",
        "        #training loop:\n",
        "        for iteration in range(self.n_iters):\n",
        "            #Loop through X (input) i.e. SGD\n",
        "            for idx, x_i in enumerate(X):\n",
        "                #update rule:\n",
        "                condition = y_[idx] * (np.dot(x_i, self.w) - self.b) >= 1\n",
        "                if condition:\n",
        "                    self.w -= self.lr * (2 * self.lambda_param * self.w)\n",
        "                else:\n",
        "                    self.w -= self.lr * (\n",
        "                        2 * self.lambda_param * self.w - np.dot(x_i, y_[idx])\n",
        "                    )\n",
        "                    self.b -= self.lr * y_[idx]\n",
        "            \n",
        "            # test accuarcy during traing:\n",
        "            if(iteration %5==0):\n",
        "              if len(x_test)>0: print(iteration,'_________________________________')\n",
        "              c=0\n",
        "              for i in range(len(x_test)):\n",
        "                if clf.predict(x_test[i])==y_test[i]:\n",
        "                    c+=1\n",
        "              if len(x_test)>0: print(c/len(x_test))\n",
        "\n",
        "    def predict(self, X):\n",
        "        approx = np.dot(X, self.w) - self.b\n",
        "        return np.sign(approx)\n"
      ],
      "metadata": {
        "id": "uHt3iGjpc46z"
      },
      "execution_count": 17,
      "outputs": []
    },
    {
      "cell_type": "markdown",
      "source": [
        "Testing on random linear data and visualization"
      ],
      "metadata": {
        "id": "QNA8XGGC26OX"
      }
    },
    {
      "cell_type": "code",
      "source": [
        "\n",
        "# Testing\n",
        "if __name__ == \"__main__\":\n",
        "    # Imports\n",
        "    from sklearn import datasets\n",
        "    import matplotlib.pyplot as plt\n",
        "\n",
        "    X_linear, y_linear = datasets.make_blobs(\n",
        "        n_samples=50, n_features=2, centers=2, cluster_std=1.05, random_state=40\n",
        "    )\n",
        "    # print(X)\n",
        "    y_linear = np.where(y_linear == 0, -1, 1)\n",
        "\n",
        "    clf = SVM()\n",
        "    clf.fit(X_linear, y_linear)\n",
        "    # predictions = clf.predict(X)\n",
        "\n",
        "    # print(clf.w, clf.b)\n",
        "\n",
        "    def visualize_svm():\n",
        "        def get_hyperplane_value(x, w, b, offset):\n",
        "            return (-w[0] * x + b + offset) / w[1]\n",
        "        X= X_linear\n",
        "        fig = plt.figure()\n",
        "        ax = fig.add_subplot(1, 1, 1)\n",
        "        plt.scatter(X[:, 0], X[:, 1], marker=\"o\", c=\"y\")\n",
        "\n",
        "        x0_1 = np.amin(X[:, 0])\n",
        "        x0_2 = np.amax(X[:, 0])\n",
        "        # print(x0_1,x0_2,'#############xx')\n",
        "        x1_1 = get_hyperplane_value(x0_1, clf.w, clf.b, 0)\n",
        "        x1_2 = get_hyperplane_value(x0_2, clf.w, clf.b, 0)\n",
        "        # print(x1_1,x1_2,'#############xx')\n",
        "\n",
        "        x1_1_m = get_hyperplane_value(x0_1, clf.w, clf.b, -1)\n",
        "        x1_2_m = get_hyperplane_value(x0_2, clf.w, clf.b, -1)\n",
        "\n",
        "        x1_1_p = get_hyperplane_value(x0_1, clf.w, clf.b, 1)\n",
        "        x1_2_p = get_hyperplane_value(x0_2, clf.w, clf.b, 1)\n",
        "\n",
        "        ax.plot([x0_1, x0_2], [x1_1, x1_2], \"y--\")\n",
        "        ax.plot([x0_1, x0_2], [x1_1_m, x1_2_m], \"r\")\n",
        "        ax.plot([x0_1, x0_2], [x1_1_p, x1_2_p], \"k\")\n",
        "\n",
        "        x1_min = np.amin(X[:, 1])\n",
        "        x1_max = np.amax(X[:, 1])\n",
        "        ax.set_ylim([x1_min - 3, x1_max + 3])\n",
        "\n",
        "        plt.show()\n",
        "\n",
        "    visualize_svm()"
      ],
      "metadata": {
        "colab": {
          "base_uri": "https://localhost:8080/",
          "height": 265
        },
        "id": "ZYksSB4vwNh1",
        "outputId": "2474151a-ff88-413b-ae7a-72d64c5a4d54"
      },
      "execution_count": 21,
      "outputs": [
        {
          "output_type": "display_data",
          "data": {
            "text/plain": [
              "<Figure size 432x288 with 1 Axes>"
            ],
            "image/png": "[encoded data removed]"
          },
          "metadata": {}
        }
      ]
    },
    {
      "cell_type": "markdown",
      "source": [
        "Testing on (Text data)."
      ],
      "metadata": {
        "id": "8N3I8yNn2vue"
      }
    },
    {
      "cell_type": "code",
      "source": [
        "# Testing\n",
        "if __name__ == \"__main__\":\n",
        "    from sklearn import datasets\n",
        "    import matplotlib.pyplot as plt\n",
        "    clf = SVM(learning_rate=0.001, lambda_param=0.01, n_iters=400)\n",
        "    clf.fit(X_train, y_train,X_test,y_test)"
      ],
      "metadata": {
        "colab": {
          "base_uri": "https://localhost:8080/"
        },
        "id": "YpNXCC9WecZ9",
        "outputId": "a0356c04-3e4b-4c8c-a874-212b2077c3ff"
      },
      "execution_count": 22,
      "outputs": [
        {
          "output_type": "stream",
          "name": "stdout",
          "text": [
            "0 _________________________________\n",
            "0.46464646464646464\n",
            "5 _________________________________\n",
            "0.48484848484848486\n",
            "10 _________________________________\n",
            "0.46464646464646464\n",
            "15 _________________________________\n",
            "0.494949494949495\n",
            "20 _________________________________\n",
            "0.5050505050505051\n",
            "25 _________________________________\n",
            "0.5252525252525253\n",
            "30 _________________________________\n",
            "0.5252525252525253\n",
            "35 _________________________________\n",
            "0.5353535353535354\n",
            "40 _________________________________\n",
            "0.5353535353535354\n",
            "45 _________________________________\n",
            "0.5252525252525253\n",
            "50 _________________________________\n",
            "0.5252525252525253\n",
            "55 _________________________________\n",
            "0.5252525252525253\n",
            "60 _________________________________\n",
            "0.5252525252525253\n",
            "65 _________________________________\n",
            "0.5252525252525253\n",
            "70 _________________________________\n",
            "0.5353535353535354\n",
            "75 _________________________________\n",
            "0.5454545454545454\n",
            "80 _________________________________\n",
            "0.5454545454545454\n",
            "85 _________________________________\n",
            "0.5454545454545454\n",
            "90 _________________________________\n",
            "0.5353535353535354\n",
            "95 _________________________________\n",
            "0.5353535353535354\n",
            "100 _________________________________\n",
            "0.5353535353535354\n",
            "105 _________________________________\n",
            "0.5353535353535354\n",
            "110 _________________________________\n",
            "0.5353535353535354\n",
            "115 _________________________________\n",
            "0.5252525252525253\n",
            "120 _________________________________\n",
            "0.5252525252525253\n",
            "125 _________________________________\n",
            "0.5353535353535354\n",
            "130 _________________________________\n",
            "0.5454545454545454\n",
            "135 _________________________________\n",
            "0.5454545454545454\n",
            "140 _________________________________\n",
            "0.5454545454545454\n",
            "145 _________________________________\n",
            "0.5454545454545454\n",
            "150 _________________________________\n",
            "0.5555555555555556\n",
            "155 _________________________________\n",
            "0.5656565656565656\n",
            "160 _________________________________\n",
            "0.5656565656565656\n",
            "165 _________________________________\n",
            "0.5656565656565656\n",
            "170 _________________________________\n",
            "0.5656565656565656\n",
            "175 _________________________________\n",
            "0.5656565656565656\n",
            "180 _________________________________\n",
            "0.5555555555555556\n",
            "185 _________________________________\n",
            "0.5555555555555556\n",
            "190 _________________________________\n",
            "0.5555555555555556\n",
            "195 _________________________________\n",
            "0.5252525252525253\n",
            "200 _________________________________\n",
            "0.5252525252525253\n",
            "205 _________________________________\n",
            "0.5252525252525253\n",
            "210 _________________________________\n",
            "0.5252525252525253\n",
            "215 _________________________________\n",
            "0.5252525252525253\n",
            "220 _________________________________\n",
            "0.5252525252525253\n",
            "225 _________________________________\n",
            "0.5252525252525253\n",
            "230 _________________________________\n",
            "0.5252525252525253\n",
            "235 _________________________________\n",
            "0.5252525252525253\n",
            "240 _________________________________\n",
            "0.5252525252525253\n",
            "245 _________________________________\n",
            "0.5252525252525253\n",
            "250 _________________________________\n",
            "0.5252525252525253\n",
            "255 _________________________________\n",
            "0.5252525252525253\n",
            "260 _________________________________\n",
            "0.5252525252525253\n",
            "265 _________________________________\n",
            "0.5252525252525253\n",
            "270 _________________________________\n",
            "0.5252525252525253\n",
            "275 _________________________________\n",
            "0.5252525252525253\n",
            "280 _________________________________\n",
            "0.5252525252525253\n",
            "285 _________________________________\n",
            "0.5252525252525253\n",
            "290 _________________________________\n",
            "0.5252525252525253\n",
            "295 _________________________________\n",
            "0.5252525252525253\n",
            "300 _________________________________\n",
            "0.5252525252525253\n",
            "305 _________________________________\n",
            "0.5252525252525253\n",
            "310 _________________________________\n",
            "0.5252525252525253\n",
            "315 _________________________________\n",
            "0.5252525252525253\n",
            "320 _________________________________\n",
            "0.5353535353535354\n",
            "325 _________________________________\n",
            "0.5353535353535354\n",
            "330 _________________________________\n",
            "0.5353535353535354\n",
            "335 _________________________________\n",
            "0.5353535353535354\n",
            "340 _________________________________\n",
            "0.5353535353535354\n",
            "345 _________________________________\n",
            "0.5353535353535354\n",
            "350 _________________________________\n",
            "0.5353535353535354\n",
            "355 _________________________________\n",
            "0.5353535353535354\n",
            "360 _________________________________\n",
            "0.5353535353535354\n",
            "365 _________________________________\n",
            "0.5353535353535354\n",
            "370 _________________________________\n",
            "0.5353535353535354\n",
            "375 _________________________________\n",
            "0.5353535353535354\n",
            "380 _________________________________\n",
            "0.5353535353535354\n",
            "385 _________________________________\n",
            "0.5353535353535354\n",
            "390 _________________________________\n",
            "0.5353535353535354\n",
            "395 _________________________________\n",
            "0.5353535353535354\n"
          ]
        }
      ]
    },
    {
      "cell_type": "markdown",
      "source": [
        "**Result**: Text data is not linearly seperable, that is why accuracy was saturated at 0.5354 "
      ],
      "metadata": {
        "id": "lMKEPFfgsBik"
      }
    }
  ]
}