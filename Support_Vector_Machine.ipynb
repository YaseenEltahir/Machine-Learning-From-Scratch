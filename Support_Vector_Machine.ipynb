{
  "nbformat": 4,
  "nbformat_minor": 0,
  "metadata": {
    "colab": {
      "name": "Support_Vector_Machine",
      "provenance": []
    },
    "kernelspec": {
      "name": "python3",
      "display_name": "Python 3"
    },
    "language_info": {
      "name": "python"
    }
  },
  "cells": [
    {
      "cell_type": "code",
      "execution_count": null,
      "metadata": {
        "id": "9Zjc-5mcP03O"
      },
      "outputs": [],
      "source": [
        "# importing some basic libraries\n",
        "%matplotlib inline\n",
        "import matplotlib.pyplot as plt\n",
        "from matplotlib import style\n",
        "style.use('ggplot')\n",
        "import numpy as np"
      ]
    },
    {
      "cell_type": "code",
      "source": [
        "from google.colab import drive\n",
        "drive.mount('/content/drive')"
      ],
      "metadata": {
        "colab": {
          "base_uri": "https://localhost:8080/"
        },
        "id": "ZPiRrfeCVyJm",
        "outputId": "1a7840d5-79fc-4791-9905-66cb102814b1"
      },
      "execution_count": null,
      "outputs": [
        {
          "output_type": "stream",
          "name": "stdout",
          "text": [
            "Drive already mounted at /content/drive; to attempt to forcibly remount, call drive.mount(\"/content/drive\", force_remount=True).\n"
          ]
        }
      ]
    },
    {
      "cell_type": "code",
      "source": [
        "import pandas as pd"
      ],
      "metadata": {
        "id": "vLUj_NdsWXQP"
      },
      "execution_count": null,
      "outputs": []
    },
    {
      "cell_type": "code",
      "source": [
        "df = pd.read_csv('/content/processed_data1.csv')\n",
        "df"
      ],
      "metadata": {
        "colab": {
          "base_uri": "https://localhost:8080/",
          "height": 423
        },
        "id": "QOI_qKuTV7io",
        "outputId": "a80eb3c7-638a-4f06-ab87-4a26b22212e7"
      },
      "execution_count": null,
      "outputs": [
        {
          "output_type": "execute_result",
          "data": {
            "text/plain": [
              "                                                  review sentiment\n",
              "0      one review ha mention watch 1 Oz episod youll ...  positive\n",
              "1      wonder littl product film techniqu veri unassu...  positive\n",
              "2      thought thi wa wonder way spend time hot summe...  positive\n",
              "3      basic famili littl boy jake think zombi hi clo...  negative\n",
              "4      petter mattei love time money visual stun film...  positive\n",
              "...                                                  ...       ...\n",
              "25327  Im huge classic film buff get silent movi lot ...  positive\n",
              "25328  cant believ mani compar thi movi argento hi wo...  negative\n",
              "25329  movi absolut sillybut expect highbrow intellec...  positive\n",
              "25330  thi wa pleasant music creation moulin roug dan...  positive\n",
              "25331  thi wa one film probabl never would pick shelf...       NaN\n",
              "\n",
              "[25332 rows x 2 columns]"
            ],
            "text/html": [
              "\n",
              "  <div id=\"df-bb0a6bac-95bd-4b46-9b65-2380ad7c49a9\">\n",
              "    <div class=\"colab-df-container\">\n",
              "      <div>\n",
              "<style scoped>\n",
              "    .dataframe tbody tr th:only-of-type {\n",
              "        vertical-align: middle;\n",
              "    }\n",
              "\n",
              "    .dataframe tbody tr th {\n",
              "        vertical-align: top;\n",
              "    }\n",
              "\n",
              "    .dataframe thead th {\n",
              "        text-align: right;\n",
              "    }\n",
              "</style>\n",
              "<table border=\"1\" class=\"dataframe\">\n",
              "  <thead>\n",
              "    <tr style=\"text-align: right;\">\n",
              "      <th></th>\n",
              "      <th>review</th>\n",
              "      <th>sentiment</th>\n",
              "    </tr>\n",
              "  </thead>\n",
              "  <tbody>\n",
              "    <tr>\n",
              "      <th>0</th>\n",
              "      <td>one review ha mention watch 1 Oz episod youll ...</td>\n",
              "      <td>positive</td>\n",
              "    </tr>\n",
              "    <tr>\n",
              "      <th>1</th>\n",
              "      <td>wonder littl product film techniqu veri unassu...</td>\n",
              "      <td>positive</td>\n",
              "    </tr>\n",
              "    <tr>\n",
              "      <th>2</th>\n",
              "      <td>thought thi wa wonder way spend time hot summe...</td>\n",
              "      <td>positive</td>\n",
              "    </tr>\n",
              "    <tr>\n",
              "      <th>3</th>\n",
              "      <td>basic famili littl boy jake think zombi hi clo...</td>\n",
              "      <td>negative</td>\n",
              "    </tr>\n",
              "    <tr>\n",
              "      <th>4</th>\n",
              "      <td>petter mattei love time money visual stun film...</td>\n",
              "      <td>positive</td>\n",
              "    </tr>\n",
              "    <tr>\n",
              "      <th>...</th>\n",
              "      <td>...</td>\n",
              "      <td>...</td>\n",
              "    </tr>\n",
              "    <tr>\n",
              "      <th>25327</th>\n",
              "      <td>Im huge classic film buff get silent movi lot ...</td>\n",
              "      <td>positive</td>\n",
              "    </tr>\n",
              "    <tr>\n",
              "      <th>25328</th>\n",
              "      <td>cant believ mani compar thi movi argento hi wo...</td>\n",
              "      <td>negative</td>\n",
              "    </tr>\n",
              "    <tr>\n",
              "      <th>25329</th>\n",
              "      <td>movi absolut sillybut expect highbrow intellec...</td>\n",
              "      <td>positive</td>\n",
              "    </tr>\n",
              "    <tr>\n",
              "      <th>25330</th>\n",
              "      <td>thi wa pleasant music creation moulin roug dan...</td>\n",
              "      <td>positive</td>\n",
              "    </tr>\n",
              "    <tr>\n",
              "      <th>25331</th>\n",
              "      <td>thi wa one film probabl never would pick shelf...</td>\n",
              "      <td>NaN</td>\n",
              "    </tr>\n",
              "  </tbody>\n",
              "</table>\n",
              "<p>25332 rows × 2 columns</p>\n",
              "</div>\n",
              "      <button class=\"colab-df-convert\" onclick=\"convertToInteractive('df-bb0a6bac-95bd-4b46-9b65-2380ad7c49a9')\"\n",
              "              title=\"Convert this dataframe to an interactive table.\"\n",
              "              style=\"display:none;\">\n",
              "        \n",
              "  <svg xmlns=\"http://www.w3.org/2000/svg\" height=\"24px\"viewBox=\"0 0 24 24\"\n",
              "       width=\"24px\">\n",
              "    <path d=\"M0 0h24v24H0V0z\" fill=\"none\"/>\n",
              "    <path d=\"M18.56 5.44l.94 2.06.94-2.06 2.06-.94-2.06-.94-.94-2.06-.94 2.06-2.06.94zm-11 1L8.5 8.5l.94-2.06 2.06-.94-2.06-.94L8.5 2.5l-.94 2.06-2.06.94zm10 10l.94 2.06.94-2.06 2.06-.94-2.06-.94-.94-2.06-.94 2.06-2.06.94z\"/><path d=\"M17.41 7.96l-1.37-1.37c-.4-.4-.92-.59-1.43-.59-.52 0-1.04.2-1.43.59L10.3 9.45l-7.72 7.72c-.78.78-.78 2.05 0 2.83L4 21.41c.39.39.9.59 1.41.59.51 0 1.02-.2 1.41-.59l7.78-7.78 2.81-2.81c.8-.78.8-2.07 0-2.86zM5.41 20L4 18.59l7.72-7.72 1.47 1.35L5.41 20z\"/>\n",
              "  </svg>\n",
              "      </button>\n",
              "      \n",
              "  <style>\n",
              "    .colab-df-container {\n",
              "      display:flex;\n",
              "      flex-wrap:wrap;\n",
              "      gap: 12px;\n",
              "    }\n",
              "\n",
              "    .colab-df-convert {\n",
              "      background-color: #E8F0FE;\n",
              "      border: none;\n",
              "      border-radius: 50%;\n",
              "      cursor: pointer;\n",
              "      display: none;\n",
              "      fill: #1967D2;\n",
              "      height: 32px;\n",
              "      padding: 0 0 0 0;\n",
              "      width: 32px;\n",
              "    }\n",
              "\n",
              "    .colab-df-convert:hover {\n",
              "      background-color: #E2EBFA;\n",
              "      box-shadow: 0px 1px 2px rgba(60, 64, 67, 0.3), 0px 1px 3px 1px rgba(60, 64, 67, 0.15);\n",
              "      fill: #174EA6;\n",
              "    }\n",
              "\n",
              "    [theme=dark] .colab-df-convert {\n",
              "      background-color: #3B4455;\n",
              "      fill: #D2E3FC;\n",
              "    }\n",
              "\n",
              "    [theme=dark] .colab-df-convert:hover {\n",
              "      background-color: #434B5C;\n",
              "      box-shadow: 0px 1px 3px 1px rgba(0, 0, 0, 0.15);\n",
              "      filter: drop-shadow(0px 1px 2px rgba(0, 0, 0, 0.3));\n",
              "      fill: #FFFFFF;\n",
              "    }\n",
              "  </style>\n",
              "\n",
              "      <script>\n",
              "        const buttonEl =\n",
              "          document.querySelector('#df-bb0a6bac-95bd-4b46-9b65-2380ad7c49a9 button.colab-df-convert');\n",
              "        buttonEl.style.display =\n",
              "          google.colab.kernel.accessAllowed ? 'block' : 'none';\n",
              "\n",
              "        async function convertToInteractive(key) {\n",
              "          const element = document.querySelector('#df-bb0a6bac-95bd-4b46-9b65-2380ad7c49a9');\n",
              "          const dataTable =\n",
              "            await google.colab.kernel.invokeFunction('convertToInteractive',\n",
              "                                                     [key], {});\n",
              "          if (!dataTable) return;\n",
              "\n",
              "          const docLinkHtml = 'Like what you see? Visit the ' +\n",
              "            '<a target=\"_blank\" href=https://colab.research.google.com/notebooks/data_table.ipynb>data table notebook</a>'\n",
              "            + ' to learn more about interactive tables.';\n",
              "          element.innerHTML = '';\n",
              "          dataTable['output_type'] = 'display_data';\n",
              "          await google.colab.output.renderOutput(dataTable, element);\n",
              "          const docLink = document.createElement('div');\n",
              "          docLink.innerHTML = docLinkHtml;\n",
              "          element.appendChild(docLink);\n",
              "        }\n",
              "      </script>\n",
              "    </div>\n",
              "  </div>\n",
              "  "
            ]
          },
          "metadata": {},
          "execution_count": 10
        }
      ]
    },
    {
      "cell_type": "code",
      "source": [
        "sent = pd.Series(np.where(df.sentiment.values == 'positive',1,0))\n",
        "sent\n",
        "y_train = sent[0:399]\n",
        "y_test = sent[400:499]\n",
        "y_train"
      ],
      "metadata": {
        "colab": {
          "base_uri": "https://localhost:8080/"
        },
        "id": "njUnv2tLWgm3",
        "outputId": "dae999f7-daa5-4259-fe8c-cf8ad368bbd6"
      },
      "execution_count": null,
      "outputs": [
        {
          "output_type": "execute_result",
          "data": {
            "text/plain": [
              "0      1\n",
              "1      1\n",
              "2      1\n",
              "3      0\n",
              "4      1\n",
              "      ..\n",
              "394    1\n",
              "395    0\n",
              "396    0\n",
              "397    1\n",
              "398    0\n",
              "Length: 399, dtype: int64"
            ]
          },
          "metadata": {},
          "execution_count": 11
        }
      ]
    },
    {
      "cell_type": "code",
      "source": [
        "docs = df.review.to_numpy().tolist()\n",
        "\n",
        "len(docs)"
      ],
      "metadata": {
        "colab": {
          "base_uri": "https://localhost:8080/"
        },
        "id": "BxpizP1wWlgb",
        "outputId": "9f0f28a1-2835-49fa-ea35-b3c002f4acc8"
      },
      "execution_count": null,
      "outputs": [
        {
          "output_type": "execute_result",
          "data": {
            "text/plain": [
              "25332"
            ]
          },
          "metadata": {},
          "execution_count": 12
        }
      ]
    },
    {
      "cell_type": "code",
      "source": [
        "# docA = \"good boy\"\n",
        "# docB = \"good girl\"\n",
        "# docC = \"boy girl good\"\n",
        "\n",
        "# docs=[docA,docB,docC]\n",
        "bows=[]\n",
        "\n",
        "for doc in docs[0:499]:\n",
        "  bows.append(doc.split(\" \"))\n",
        "\n",
        "sets=[]\n",
        "for s in bows:\n",
        "  sets.append(set(s))\n",
        "wordSet=set().union(*sets)\n",
        "\n",
        "# for i in range (len(bows)):\n",
        "\n",
        "#   wordSet.union(set(bows[i]))\n",
        "  \n",
        "# print(set().union(*sets))\n",
        "# bowA = docA.split(\" \")\n",
        "# bowB = docB.split(\" \")\n",
        "# bowC = docC.split(\" \")\n",
        "\n",
        "# wordSet = set(bowA).union(set(bowB)).union(set(bowC))\n",
        "#print(wordSet)\n",
        "\n",
        "\n",
        "len(wordSet)"
      ],
      "metadata": {
        "colab": {
          "base_uri": "https://localhost:8080/"
        },
        "id": "Kr053T6PWqBO",
        "outputId": "3c92e339-4cb7-409b-8655-891316889d7c"
      },
      "execution_count": null,
      "outputs": [
        {
          "output_type": "execute_result",
          "data": {
            "text/plain": [
              "10772"
            ]
          },
          "metadata": {},
          "execution_count": 13
        }
      ]
    },
    {
      "cell_type": "code",
      "source": [
        "wordDicts=[]\n",
        "for bow in bows:\n",
        "  wordDict =dict.fromkeys(wordSet,0)\n",
        "  for word in bow:\n",
        "    wordDict[word]+=1\n",
        "    wordDicts.append(wordDict)\n",
        "# wordDictA = dict.fromkeys(wordSet,0)\n",
        "# wordDictB = dict.fromkeys(wordSet,0)\n",
        "# wordDictC = dict.fromkeys(wordSet,0)\n",
        "\n",
        "#BoW\n",
        "# for word in bowA:\n",
        "#     wordDictA[word]+=1\n",
        "# for word in bowB:\n",
        "#     wordDictB[word]+=1\n",
        "# for word in bowC:\n",
        "#     wordDictC[word]+=1"
      ],
      "metadata": {
        "id": "PmZlxw0pWsme"
      },
      "execution_count": null,
      "outputs": []
    },
    {
      "cell_type": "code",
      "source": [
        "def computeTF(wordDict,bow):\n",
        "    tfDict = {}\n",
        "    bowCount = len(bow)\n",
        "    for word,count in wordDict.items():\n",
        "        #TF = No.of reps words in a sentence/ Total words in a sentence\n",
        "        tfDict[word] = count/float(bowCount)\n",
        "    return tfDict"
      ],
      "metadata": {
        "id": "2LFS7cIoWxnT"
      },
      "execution_count": null,
      "outputs": []
    },
    {
      "cell_type": "code",
      "source": [
        "tfBows=[]\n",
        "for i in range(len(bows)):\n",
        "  tfBows.append(computeTF(wordDicts[i],bows[i]))\n",
        "# tfBowA = computeTF(wordDictA,bowA)\n",
        "# tfBowB = computeTF(wordDictB,bowB)\n",
        "# tfBowC = computeTF(wordDictC,bowC)"
      ],
      "metadata": {
        "id": "d-EW6NT2W1bC"
      },
      "execution_count": null,
      "outputs": []
    },
    {
      "cell_type": "code",
      "source": [
        "def computeIDF(docList):\n",
        "    import math\n",
        "    idfDict = {}\n",
        "    N = len(docList)\n",
        "    \n",
        "    #{'girl':0 ,'good':0,'boy':0}\n",
        "    idfDict = dict.fromkeys(docList[0].keys(),0)\n",
        "    \n",
        "    #Lets find the number of docs which contain word(Wi)\n",
        "    for doc in docList:\n",
        "        for word,val in doc.items():\n",
        "            if val >0:\n",
        "                idfDict[word]+=1\n",
        "    #{'girl':2 ,'good':3,'boy':2}\n",
        "    #IDF calculation\n",
        "    for word,val in idfDict.items():\n",
        "#         idfDict[word] = math.log10(N/float(val)) \n",
        "        idfDict[word] = math.log10((N+1)/(float(val)+1.0))+1\n",
        "    return idfDict"
      ],
      "metadata": {
        "id": "aZ54A3a-W5Gc"
      },
      "execution_count": null,
      "outputs": []
    },
    {
      "cell_type": "code",
      "source": [
        "idfs = computeIDF([wordDict for wordDict in wordDicts])"
      ],
      "metadata": {
        "id": "5hGD8IM1W81P"
      },
      "execution_count": null,
      "outputs": []
    },
    {
      "cell_type": "code",
      "source": [
        "def computeTFIDF(tfBow,idfs):\n",
        "    tfidf ={}\n",
        "    for word, val in tfBow.items():\n",
        "        tfidf[word] = val*idfs[word]\n",
        "    return tfidf"
      ],
      "metadata": {
        "id": "QPjRYrc7XG3L"
      },
      "execution_count": null,
      "outputs": []
    },
    {
      "cell_type": "code",
      "source": [
        "tfidfBows=[]\n",
        "for i in range(len(bows)):\n",
        "  tfidfBows.append(computeTFIDF(tfBows[i],idfs))\n",
        "# tfidfBowA = computeTFIDF(tfBowA,idfs)\n",
        "# tfidfBowB = computeTFIDF(tfBowB,idfs)\n",
        "# tfidfBowC = computeTFIDF(tfBowC,idfs)"
      ],
      "metadata": {
        "id": "q1wWqxlpXGpw"
      },
      "execution_count": null,
      "outputs": []
    },
    {
      "cell_type": "code",
      "source": [
        "import pandas as pd\n",
        "kk=pd.DataFrame([tfidfBow for tfidfBow in tfidfBows])\n",
        "kk.head(5)"
      ],
      "metadata": {
        "colab": {
          "base_uri": "https://localhost:8080/",
          "height": 299
        },
        "id": "vp6nwBo6XM1X",
        "outputId": "ed637a3e-3ecd-4429-fd95-feec3c157671"
      },
      "execution_count": null,
      "outputs": [
        {
          "output_type": "execute_result",
          "data": {
            "text/plain": [
              "   scan  damian  barclay  chad  ruffalo  sherlock  fmv  hay  instructor  \\\n",
              "0   0.0     0.0      0.0   0.0      0.0       0.0  0.0  0.0         0.0   \n",
              "1   0.0     0.0      0.0   0.0      0.0       0.0  0.0  0.0         0.0   \n",
              "2   0.0     0.0      0.0   0.0      0.0       0.0  0.0  0.0         0.0   \n",
              "3   0.0     0.0      0.0   0.0      0.0       0.0  0.0  0.0         0.0   \n",
              "4   0.0     0.0      0.0   0.0      0.0       0.0  0.0  0.0         0.0   \n",
              "\n",
              "   pastso  ...  sloppi  preschool  viewer  verbinski  undecid  mosti  \\\n",
              "0     0.0  ...     0.0        0.0     0.0        0.0      0.0    0.0   \n",
              "1     0.0  ...     0.0        0.0     0.0        0.0      0.0    0.0   \n",
              "2     0.0  ...     0.0        0.0     0.0        0.0      0.0    0.0   \n",
              "3     0.0  ...     0.0        0.0     0.0        0.0      0.0    0.0   \n",
              "4     0.0  ...     0.0        0.0     0.0        0.0      0.0    0.0   \n",
              "\n",
              "   criterion  aya  schumach  dispatch  \n",
              "0        0.0  0.0       0.0       0.0  \n",
              "1        0.0  0.0       0.0       0.0  \n",
              "2        0.0  0.0       0.0       0.0  \n",
              "3        0.0  0.0       0.0       0.0  \n",
              "4        0.0  0.0       0.0       0.0  \n",
              "\n",
              "[5 rows x 10772 columns]"
            ],
            "text/html": [
              "\n",
              "  <div id=\"df-83caf405-9254-4c22-b975-d1be6d0cb114\">\n",
              "    <div class=\"colab-df-container\">\n",
              "      <div>\n",
              "<style scoped>\n",
              "    .dataframe tbody tr th:only-of-type {\n",
              "        vertical-align: middle;\n",
              "    }\n",
              "\n",
              "    .dataframe tbody tr th {\n",
              "        vertical-align: top;\n",
              "    }\n",
              "\n",
              "    .dataframe thead th {\n",
              "        text-align: right;\n",
              "    }\n",
              "</style>\n",
              "<table border=\"1\" class=\"dataframe\">\n",
              "  <thead>\n",
              "    <tr style=\"text-align: right;\">\n",
              "      <th></th>\n",
              "      <th>scan</th>\n",
              "      <th>damian</th>\n",
              "      <th>barclay</th>\n",
              "      <th>chad</th>\n",
              "      <th>ruffalo</th>\n",
              "      <th>sherlock</th>\n",
              "      <th>fmv</th>\n",
              "      <th>hay</th>\n",
              "      <th>instructor</th>\n",
              "      <th>pastso</th>\n",
              "      <th>...</th>\n",
              "      <th>sloppi</th>\n",
              "      <th>preschool</th>\n",
              "      <th>viewer</th>\n",
              "      <th>verbinski</th>\n",
              "      <th>undecid</th>\n",
              "      <th>mosti</th>\n",
              "      <th>criterion</th>\n",
              "      <th>aya</th>\n",
              "      <th>schumach</th>\n",
              "      <th>dispatch</th>\n",
              "    </tr>\n",
              "  </thead>\n",
              "  <tbody>\n",
              "    <tr>\n",
              "      <th>0</th>\n",
              "      <td>0.0</td>\n",
              "      <td>0.0</td>\n",
              "      <td>0.0</td>\n",
              "      <td>0.0</td>\n",
              "      <td>0.0</td>\n",
              "      <td>0.0</td>\n",
              "      <td>0.0</td>\n",
              "      <td>0.0</td>\n",
              "      <td>0.0</td>\n",
              "      <td>0.0</td>\n",
              "      <td>...</td>\n",
              "      <td>0.0</td>\n",
              "      <td>0.0</td>\n",
              "      <td>0.0</td>\n",
              "      <td>0.0</td>\n",
              "      <td>0.0</td>\n",
              "      <td>0.0</td>\n",
              "      <td>0.0</td>\n",
              "      <td>0.0</td>\n",
              "      <td>0.0</td>\n",
              "      <td>0.0</td>\n",
              "    </tr>\n",
              "    <tr>\n",
              "      <th>1</th>\n",
              "      <td>0.0</td>\n",
              "      <td>0.0</td>\n",
              "      <td>0.0</td>\n",
              "      <td>0.0</td>\n",
              "      <td>0.0</td>\n",
              "      <td>0.0</td>\n",
              "      <td>0.0</td>\n",
              "      <td>0.0</td>\n",
              "      <td>0.0</td>\n",
              "      <td>0.0</td>\n",
              "      <td>...</td>\n",
              "      <td>0.0</td>\n",
              "      <td>0.0</td>\n",
              "      <td>0.0</td>\n",
              "      <td>0.0</td>\n",
              "      <td>0.0</td>\n",
              "      <td>0.0</td>\n",
              "      <td>0.0</td>\n",
              "      <td>0.0</td>\n",
              "      <td>0.0</td>\n",
              "      <td>0.0</td>\n",
              "    </tr>\n",
              "    <tr>\n",
              "      <th>2</th>\n",
              "      <td>0.0</td>\n",
              "      <td>0.0</td>\n",
              "      <td>0.0</td>\n",
              "      <td>0.0</td>\n",
              "      <td>0.0</td>\n",
              "      <td>0.0</td>\n",
              "      <td>0.0</td>\n",
              "      <td>0.0</td>\n",
              "      <td>0.0</td>\n",
              "      <td>0.0</td>\n",
              "      <td>...</td>\n",
              "      <td>0.0</td>\n",
              "      <td>0.0</td>\n",
              "      <td>0.0</td>\n",
              "      <td>0.0</td>\n",
              "      <td>0.0</td>\n",
              "      <td>0.0</td>\n",
              "      <td>0.0</td>\n",
              "      <td>0.0</td>\n",
              "      <td>0.0</td>\n",
              "      <td>0.0</td>\n",
              "    </tr>\n",
              "    <tr>\n",
              "      <th>3</th>\n",
              "      <td>0.0</td>\n",
              "      <td>0.0</td>\n",
              "      <td>0.0</td>\n",
              "      <td>0.0</td>\n",
              "      <td>0.0</td>\n",
              "      <td>0.0</td>\n",
              "      <td>0.0</td>\n",
              "      <td>0.0</td>\n",
              "      <td>0.0</td>\n",
              "      <td>0.0</td>\n",
              "      <td>...</td>\n",
              "      <td>0.0</td>\n",
              "      <td>0.0</td>\n",
              "      <td>0.0</td>\n",
              "      <td>0.0</td>\n",
              "      <td>0.0</td>\n",
              "      <td>0.0</td>\n",
              "      <td>0.0</td>\n",
              "      <td>0.0</td>\n",
              "      <td>0.0</td>\n",
              "      <td>0.0</td>\n",
              "    </tr>\n",
              "    <tr>\n",
              "      <th>4</th>\n",
              "      <td>0.0</td>\n",
              "      <td>0.0</td>\n",
              "      <td>0.0</td>\n",
              "      <td>0.0</td>\n",
              "      <td>0.0</td>\n",
              "      <td>0.0</td>\n",
              "      <td>0.0</td>\n",
              "      <td>0.0</td>\n",
              "      <td>0.0</td>\n",
              "      <td>0.0</td>\n",
              "      <td>...</td>\n",
              "      <td>0.0</td>\n",
              "      <td>0.0</td>\n",
              "      <td>0.0</td>\n",
              "      <td>0.0</td>\n",
              "      <td>0.0</td>\n",
              "      <td>0.0</td>\n",
              "      <td>0.0</td>\n",
              "      <td>0.0</td>\n",
              "      <td>0.0</td>\n",
              "      <td>0.0</td>\n",
              "    </tr>\n",
              "  </tbody>\n",
              "</table>\n",
              "<p>5 rows × 10772 columns</p>\n",
              "</div>\n",
              "      <button class=\"colab-df-convert\" onclick=\"convertToInteractive('df-83caf405-9254-4c22-b975-d1be6d0cb114')\"\n",
              "              title=\"Convert this dataframe to an interactive table.\"\n",
              "              style=\"display:none;\">\n",
              "        \n",
              "  <svg xmlns=\"http://www.w3.org/2000/svg\" height=\"24px\"viewBox=\"0 0 24 24\"\n",
              "       width=\"24px\">\n",
              "    <path d=\"M0 0h24v24H0V0z\" fill=\"none\"/>\n",
              "    <path d=\"M18.56 5.44l.94 2.06.94-2.06 2.06-.94-2.06-.94-.94-2.06-.94 2.06-2.06.94zm-11 1L8.5 8.5l.94-2.06 2.06-.94-2.06-.94L8.5 2.5l-.94 2.06-2.06.94zm10 10l.94 2.06.94-2.06 2.06-.94-2.06-.94-.94-2.06-.94 2.06-2.06.94z\"/><path d=\"M17.41 7.96l-1.37-1.37c-.4-.4-.92-.59-1.43-.59-.52 0-1.04.2-1.43.59L10.3 9.45l-7.72 7.72c-.78.78-.78 2.05 0 2.83L4 21.41c.39.39.9.59 1.41.59.51 0 1.02-.2 1.41-.59l7.78-7.78 2.81-2.81c.8-.78.8-2.07 0-2.86zM5.41 20L4 18.59l7.72-7.72 1.47 1.35L5.41 20z\"/>\n",
              "  </svg>\n",
              "      </button>\n",
              "      \n",
              "  <style>\n",
              "    .colab-df-container {\n",
              "      display:flex;\n",
              "      flex-wrap:wrap;\n",
              "      gap: 12px;\n",
              "    }\n",
              "\n",
              "    .colab-df-convert {\n",
              "      background-color: #E8F0FE;\n",
              "      border: none;\n",
              "      border-radius: 50%;\n",
              "      cursor: pointer;\n",
              "      display: none;\n",
              "      fill: #1967D2;\n",
              "      height: 32px;\n",
              "      padding: 0 0 0 0;\n",
              "      width: 32px;\n",
              "    }\n",
              "\n",
              "    .colab-df-convert:hover {\n",
              "      background-color: #E2EBFA;\n",
              "      box-shadow: 0px 1px 2px rgba(60, 64, 67, 0.3), 0px 1px 3px 1px rgba(60, 64, 67, 0.15);\n",
              "      fill: #174EA6;\n",
              "    }\n",
              "\n",
              "    [theme=dark] .colab-df-convert {\n",
              "      background-color: #3B4455;\n",
              "      fill: #D2E3FC;\n",
              "    }\n",
              "\n",
              "    [theme=dark] .colab-df-convert:hover {\n",
              "      background-color: #434B5C;\n",
              "      box-shadow: 0px 1px 3px 1px rgba(0, 0, 0, 0.15);\n",
              "      filter: drop-shadow(0px 1px 2px rgba(0, 0, 0, 0.3));\n",
              "      fill: #FFFFFF;\n",
              "    }\n",
              "  </style>\n",
              "\n",
              "      <script>\n",
              "        const buttonEl =\n",
              "          document.querySelector('#df-83caf405-9254-4c22-b975-d1be6d0cb114 button.colab-df-convert');\n",
              "        buttonEl.style.display =\n",
              "          google.colab.kernel.accessAllowed ? 'block' : 'none';\n",
              "\n",
              "        async function convertToInteractive(key) {\n",
              "          const element = document.querySelector('#df-83caf405-9254-4c22-b975-d1be6d0cb114');\n",
              "          const dataTable =\n",
              "            await google.colab.kernel.invokeFunction('convertToInteractive',\n",
              "                                                     [key], {});\n",
              "          if (!dataTable) return;\n",
              "\n",
              "          const docLinkHtml = 'Like what you see? Visit the ' +\n",
              "            '<a target=\"_blank\" href=https://colab.research.google.com/notebooks/data_table.ipynb>data table notebook</a>'\n",
              "            + ' to learn more about interactive tables.';\n",
              "          element.innerHTML = '';\n",
              "          dataTable['output_type'] = 'display_data';\n",
              "          await google.colab.output.renderOutput(dataTable, element);\n",
              "          const docLink = document.createElement('div');\n",
              "          docLink.innerHTML = docLinkHtml;\n",
              "          element.appendChild(docLink);\n",
              "        }\n",
              "      </script>\n",
              "    </div>\n",
              "  </div>\n",
              "  "
            ]
          },
          "metadata": {},
          "execution_count": 21
        }
      ]
    },
    {
      "cell_type": "code",
      "source": [
        "kk.zombiefido"
      ],
      "metadata": {
        "colab": {
          "base_uri": "https://localhost:8080/"
        },
        "id": "T_nHaYC3XRw9",
        "outputId": "8699d022-505b-45b6-f8fe-3d819ba8afef"
      },
      "execution_count": null,
      "outputs": [
        {
          "output_type": "execute_result",
          "data": {
            "text/plain": [
              "0      0.0\n",
              "1      0.0\n",
              "2      0.0\n",
              "3      0.0\n",
              "4      0.0\n",
              "      ... \n",
              "494    0.0\n",
              "495    0.0\n",
              "496    0.0\n",
              "497    0.0\n",
              "498    0.0\n",
              "Name: zombiefido, Length: 499, dtype: float64"
            ]
          },
          "metadata": {},
          "execution_count": 22
        }
      ]
    },
    {
      "cell_type": "code",
      "source": [
        "X_train = kk[0:399]\n",
        "X_test = kk[400:499]"
      ],
      "metadata": {
        "id": "MniZKPsUXRt_"
      },
      "execution_count": null,
      "outputs": []
    },
    {
      "cell_type": "code",
      "source": [
        "# docA = \"good boy\"\n",
        "# docB = \"good girl\"\n",
        "# docC = \"boy girl good\"\n",
        "\n",
        "# docs=[docA,docB,docC]\n",
        "\n",
        "from sklearn.feature_extraction.text import TfidfVectorizer\n",
        "# tfidf = TfidfVectorizer(norm ='l2')\n",
        "tfidf = TfidfVectorizer(use_idf=True)\n",
        "response = tfidf.fit_transform([doc for doc in docs[0:499]])\n",
        "\n",
        "dd=pd.DataFrame(response.toarray(),columns = tfidf.get_feature_names())\n",
        "dd.head(5)"
      ],
      "metadata": {
        "colab": {
          "base_uri": "https://localhost:8080/",
          "height": 335
        },
        "id": "MdhI9ytPXRo4",
        "outputId": "e3eda2f5-0ed2-4ae2-8f2b-95f257d3ded8"
      },
      "execution_count": null,
      "outputs": [
        {
          "output_type": "stream",
          "name": "stderr",
          "text": [
            "/usr/local/lib/python3.7/dist-packages/sklearn/utils/deprecation.py:87: FutureWarning: Function get_feature_names is deprecated; get_feature_names is deprecated in 1.0 and will be removed in 1.2. Please use get_feature_names_out instead.\n",
            "  warnings.warn(msg, category=FutureWarning)\n"
          ]
        },
        {
          "output_type": "execute_result",
          "data": {
            "text/plain": [
              "   007   02  0510       10  100  1000  10000  100000  10002000  101  ...  \\\n",
              "0  0.0  0.0   0.0  0.00000  0.0   0.0    0.0     0.0       0.0  0.0  ...   \n",
              "1  0.0  0.0   0.0  0.00000  0.0   0.0    0.0     0.0       0.0  0.0  ...   \n",
              "2  0.0  0.0   0.0  0.00000  0.0   0.0    0.0     0.0       0.0  0.0  ...   \n",
              "3  0.0  0.0   0.0  0.07134  0.0   0.0    0.0     0.0       0.0  0.0  ...   \n",
              "4  0.0  0.0   0.0  0.00000  0.0   0.0    0.0     0.0       0.0  0.0  ...   \n",
              "\n",
              "      zombi  zombiefido  zombieok  zombievers  zone  zoo  zoom  zucker  zulu  \\\n",
              "0  0.000000         0.0  0.000000         0.0   0.0  0.0   0.0     0.0   0.0   \n",
              "1  0.000000         0.0  0.000000         0.0   0.0  0.0   0.0     0.0   0.0   \n",
              "2  0.000000         0.0  0.000000         0.0   0.0  0.0   0.0     0.0   0.0   \n",
              "3  0.104047         0.0  0.140872         0.0   0.0  0.0   0.0     0.0   0.0   \n",
              "4  0.000000         0.0  0.000000         0.0   0.0  0.0   0.0     0.0   0.0   \n",
              "\n",
              "   zwick  \n",
              "0    0.0  \n",
              "1    0.0  \n",
              "2    0.0  \n",
              "3    0.0  \n",
              "4    0.0  \n",
              "\n",
              "[5 rows x 10711 columns]"
            ],
            "text/html": [
              "\n",
              "  <div id=\"df-26ddfd63-d023-450f-a66b-cc8ae045aa1b\">\n",
              "    <div class=\"colab-df-container\">\n",
              "      <div>\n",
              "<style scoped>\n",
              "    .dataframe tbody tr th:only-of-type {\n",
              "        vertical-align: middle;\n",
              "    }\n",
              "\n",
              "    .dataframe tbody tr th {\n",
              "        vertical-align: top;\n",
              "    }\n",
              "\n",
              "    .dataframe thead th {\n",
              "        text-align: right;\n",
              "    }\n",
              "</style>\n",
              "<table border=\"1\" class=\"dataframe\">\n",
              "  <thead>\n",
              "    <tr style=\"text-align: right;\">\n",
              "      <th></th>\n",
              "      <th>007</th>\n",
              "      <th>02</th>\n",
              "      <th>0510</th>\n",
              "      <th>10</th>\n",
              "      <th>100</th>\n",
              "      <th>1000</th>\n",
              "      <th>10000</th>\n",
              "      <th>100000</th>\n",
              "      <th>10002000</th>\n",
              "      <th>101</th>\n",
              "      <th>...</th>\n",
              "      <th>zombi</th>\n",
              "      <th>zombiefido</th>\n",
              "      <th>zombieok</th>\n",
              "      <th>zombievers</th>\n",
              "      <th>zone</th>\n",
              "      <th>zoo</th>\n",
              "      <th>zoom</th>\n",
              "      <th>zucker</th>\n",
              "      <th>zulu</th>\n",
              "      <th>zwick</th>\n",
              "    </tr>\n",
              "  </thead>\n",
              "  <tbody>\n",
              "    <tr>\n",
              "      <th>0</th>\n",
              "      <td>0.0</td>\n",
              "      <td>0.0</td>\n",
              "      <td>0.0</td>\n",
              "      <td>0.00000</td>\n",
              "      <td>0.0</td>\n",
              "      <td>0.0</td>\n",
              "      <td>0.0</td>\n",
              "      <td>0.0</td>\n",
              "      <td>0.0</td>\n",
              "      <td>0.0</td>\n",
              "      <td>...</td>\n",
              "      <td>0.000000</td>\n",
              "      <td>0.0</td>\n",
              "      <td>0.000000</td>\n",
              "      <td>0.0</td>\n",
              "      <td>0.0</td>\n",
              "      <td>0.0</td>\n",
              "      <td>0.0</td>\n",
              "      <td>0.0</td>\n",
              "      <td>0.0</td>\n",
              "      <td>0.0</td>\n",
              "    </tr>\n",
              "    <tr>\n",
              "      <th>1</th>\n",
              "      <td>0.0</td>\n",
              "      <td>0.0</td>\n",
              "      <td>0.0</td>\n",
              "      <td>0.00000</td>\n",
              "      <td>0.0</td>\n",
              "      <td>0.0</td>\n",
              "      <td>0.0</td>\n",
              "      <td>0.0</td>\n",
              "      <td>0.0</td>\n",
              "      <td>0.0</td>\n",
              "      <td>...</td>\n",
              "      <td>0.000000</td>\n",
              "      <td>0.0</td>\n",
              "      <td>0.000000</td>\n",
              "      <td>0.0</td>\n",
              "      <td>0.0</td>\n",
              "      <td>0.0</td>\n",
              "      <td>0.0</td>\n",
              "      <td>0.0</td>\n",
              "      <td>0.0</td>\n",
              "      <td>0.0</td>\n",
              "    </tr>\n",
              "    <tr>\n",
              "      <th>2</th>\n",
              "      <td>0.0</td>\n",
              "      <td>0.0</td>\n",
              "      <td>0.0</td>\n",
              "      <td>0.00000</td>\n",
              "      <td>0.0</td>\n",
              "      <td>0.0</td>\n",
              "      <td>0.0</td>\n",
              "      <td>0.0</td>\n",
              "      <td>0.0</td>\n",
              "      <td>0.0</td>\n",
              "      <td>...</td>\n",
              "      <td>0.000000</td>\n",
              "      <td>0.0</td>\n",
              "      <td>0.000000</td>\n",
              "      <td>0.0</td>\n",
              "      <td>0.0</td>\n",
              "      <td>0.0</td>\n",
              "      <td>0.0</td>\n",
              "      <td>0.0</td>\n",
              "      <td>0.0</td>\n",
              "      <td>0.0</td>\n",
              "    </tr>\n",
              "    <tr>\n",
              "      <th>3</th>\n",
              "      <td>0.0</td>\n",
              "      <td>0.0</td>\n",
              "      <td>0.0</td>\n",
              "      <td>0.07134</td>\n",
              "      <td>0.0</td>\n",
              "      <td>0.0</td>\n",
              "      <td>0.0</td>\n",
              "      <td>0.0</td>\n",
              "      <td>0.0</td>\n",
              "      <td>0.0</td>\n",
              "      <td>...</td>\n",
              "      <td>0.104047</td>\n",
              "      <td>0.0</td>\n",
              "      <td>0.140872</td>\n",
              "      <td>0.0</td>\n",
              "      <td>0.0</td>\n",
              "      <td>0.0</td>\n",
              "      <td>0.0</td>\n",
              "      <td>0.0</td>\n",
              "      <td>0.0</td>\n",
              "      <td>0.0</td>\n",
              "    </tr>\n",
              "    <tr>\n",
              "      <th>4</th>\n",
              "      <td>0.0</td>\n",
              "      <td>0.0</td>\n",
              "      <td>0.0</td>\n",
              "      <td>0.00000</td>\n",
              "      <td>0.0</td>\n",
              "      <td>0.0</td>\n",
              "      <td>0.0</td>\n",
              "      <td>0.0</td>\n",
              "      <td>0.0</td>\n",
              "      <td>0.0</td>\n",
              "      <td>...</td>\n",
              "      <td>0.000000</td>\n",
              "      <td>0.0</td>\n",
              "      <td>0.000000</td>\n",
              "      <td>0.0</td>\n",
              "      <td>0.0</td>\n",
              "      <td>0.0</td>\n",
              "      <td>0.0</td>\n",
              "      <td>0.0</td>\n",
              "      <td>0.0</td>\n",
              "      <td>0.0</td>\n",
              "    </tr>\n",
              "  </tbody>\n",
              "</table>\n",
              "<p>5 rows × 10711 columns</p>\n",
              "</div>\n",
              "      <button class=\"colab-df-convert\" onclick=\"convertToInteractive('df-26ddfd63-d023-450f-a66b-cc8ae045aa1b')\"\n",
              "              title=\"Convert this dataframe to an interactive table.\"\n",
              "              style=\"display:none;\">\n",
              "        \n",
              "  <svg xmlns=\"http://www.w3.org/2000/svg\" height=\"24px\"viewBox=\"0 0 24 24\"\n",
              "       width=\"24px\">\n",
              "    <path d=\"M0 0h24v24H0V0z\" fill=\"none\"/>\n",
              "    <path d=\"M18.56 5.44l.94 2.06.94-2.06 2.06-.94-2.06-.94-.94-2.06-.94 2.06-2.06.94zm-11 1L8.5 8.5l.94-2.06 2.06-.94-2.06-.94L8.5 2.5l-.94 2.06-2.06.94zm10 10l.94 2.06.94-2.06 2.06-.94-2.06-.94-.94-2.06-.94 2.06-2.06.94z\"/><path d=\"M17.41 7.96l-1.37-1.37c-.4-.4-.92-.59-1.43-.59-.52 0-1.04.2-1.43.59L10.3 9.45l-7.72 7.72c-.78.78-.78 2.05 0 2.83L4 21.41c.39.39.9.59 1.41.59.51 0 1.02-.2 1.41-.59l7.78-7.78 2.81-2.81c.8-.78.8-2.07 0-2.86zM5.41 20L4 18.59l7.72-7.72 1.47 1.35L5.41 20z\"/>\n",
              "  </svg>\n",
              "      </button>\n",
              "      \n",
              "  <style>\n",
              "    .colab-df-container {\n",
              "      display:flex;\n",
              "      flex-wrap:wrap;\n",
              "      gap: 12px;\n",
              "    }\n",
              "\n",
              "    .colab-df-convert {\n",
              "      background-color: #E8F0FE;\n",
              "      border: none;\n",
              "      border-radius: 50%;\n",
              "      cursor: pointer;\n",
              "      display: none;\n",
              "      fill: #1967D2;\n",
              "      height: 32px;\n",
              "      padding: 0 0 0 0;\n",
              "      width: 32px;\n",
              "    }\n",
              "\n",
              "    .colab-df-convert:hover {\n",
              "      background-color: #E2EBFA;\n",
              "      box-shadow: 0px 1px 2px rgba(60, 64, 67, 0.3), 0px 1px 3px 1px rgba(60, 64, 67, 0.15);\n",
              "      fill: #174EA6;\n",
              "    }\n",
              "\n",
              "    [theme=dark] .colab-df-convert {\n",
              "      background-color: #3B4455;\n",
              "      fill: #D2E3FC;\n",
              "    }\n",
              "\n",
              "    [theme=dark] .colab-df-convert:hover {\n",
              "      background-color: #434B5C;\n",
              "      box-shadow: 0px 1px 3px 1px rgba(0, 0, 0, 0.15);\n",
              "      filter: drop-shadow(0px 1px 2px rgba(0, 0, 0, 0.3));\n",
              "      fill: #FFFFFF;\n",
              "    }\n",
              "  </style>\n",
              "\n",
              "      <script>\n",
              "        const buttonEl =\n",
              "          document.querySelector('#df-26ddfd63-d023-450f-a66b-cc8ae045aa1b button.colab-df-convert');\n",
              "        buttonEl.style.display =\n",
              "          google.colab.kernel.accessAllowed ? 'block' : 'none';\n",
              "\n",
              "        async function convertToInteractive(key) {\n",
              "          const element = document.querySelector('#df-26ddfd63-d023-450f-a66b-cc8ae045aa1b');\n",
              "          const dataTable =\n",
              "            await google.colab.kernel.invokeFunction('convertToInteractive',\n",
              "                                                     [key], {});\n",
              "          if (!dataTable) return;\n",
              "\n",
              "          const docLinkHtml = 'Like what you see? Visit the ' +\n",
              "            '<a target=\"_blank\" href=https://colab.research.google.com/notebooks/data_table.ipynb>data table notebook</a>'\n",
              "            + ' to learn more about interactive tables.';\n",
              "          element.innerHTML = '';\n",
              "          dataTable['output_type'] = 'display_data';\n",
              "          await google.colab.output.renderOutput(dataTable, element);\n",
              "          const docLink = document.createElement('div');\n",
              "          docLink.innerHTML = docLinkHtml;\n",
              "          element.appendChild(docLink);\n",
              "        }\n",
              "      </script>\n",
              "    </div>\n",
              "  </div>\n",
              "  "
            ]
          },
          "metadata": {},
          "execution_count": 24
        }
      ]
    },
    {
      "cell_type": "code",
      "source": [
        "X_train1 = np.array(dd[0:399])\n",
        "                    \n",
        "X_test1 = np.array(dd[400:499])"
      ],
      "metadata": {
        "id": "RJ955k3YXnbq"
      },
      "execution_count": null,
      "outputs": []
    },
    {
      "cell_type": "code",
      "source": [
        "sum(kk.zombiefido)==sum(dd.zombiefido)"
      ],
      "metadata": {
        "colab": {
          "base_uri": "https://localhost:8080/"
        },
        "id": "nEaOmYQOXrSr",
        "outputId": "c4c4655e-3e9f-4d7e-fda1-4c04283410fa"
      },
      "execution_count": null,
      "outputs": [
        {
          "output_type": "execute_result",
          "data": {
            "text/plain": [
              "False"
            ]
          },
          "metadata": {},
          "execution_count": 26
        }
      ]
    },
    {
      "cell_type": "code",
      "source": [
        "# y_train.dtype\n",
        "X_train = np.array(X_train)\n",
        "X_train.dtype"
      ],
      "metadata": {
        "colab": {
          "base_uri": "https://localhost:8080/"
        },
        "id": "fBX55s46Xrwp",
        "outputId": "0f2c7bc7-af99-4668-bca7-a6a9e2934712"
      },
      "execution_count": null,
      "outputs": [
        {
          "output_type": "execute_result",
          "data": {
            "text/plain": [
              "dtype('float64')"
            ]
          },
          "metadata": {},
          "execution_count": 27
        }
      ]
    },
    {
      "cell_type": "code",
      "source": [
        "X_test = np.array(X_test)\n",
        "X_test.dtype"
      ],
      "metadata": {
        "colab": {
          "base_uri": "https://localhost:8080/"
        },
        "id": "aIqfml8vXzq3",
        "outputId": "695ddb33-9ef2-4e62-bbd5-8d4105cbef6c"
      },
      "execution_count": null,
      "outputs": [
        {
          "output_type": "execute_result",
          "data": {
            "text/plain": [
              "dtype('float64')"
            ]
          },
          "metadata": {},
          "execution_count": 28
        }
      ]
    },
    {
      "cell_type": "code",
      "source": [
        "class SVM(object):\n",
        "    def __init__(self,visualization=True):\n",
        "        self.visualization = visualization\n",
        "        self.colors = {1:'r',-1:'b'}\n",
        "        if self.visualization:\n",
        "            self.fig = plt.figure()\n",
        "            self.ax = self.fig.add_subplot(1,1,1)\n",
        "    \n",
        "    def fit(self,data):\n",
        "        #train with data\n",
        "        self.data = data\n",
        "        # { |\\w\\|:{w,b}}\n",
        "        opt_dict = {}\n",
        "        \n",
        "        transforms = [[1,1],[-1,1],[-1,-1],[1,-1]]\n",
        "        \n",
        "        all_data = np.array([])\n",
        "        for yi in self.data:\n",
        "            all_data = np.append(all_data,self.data[yi])\n",
        "                    \n",
        "        self.max_feature_value = max(all_data)         \n",
        "        self.min_feature_value = min(all_data)\n",
        "        all_data = None\n",
        "        \n",
        "        #with smaller steps our margins and db will be more precise\n",
        "        step_sizes = [self.max_feature_value * 0.1,\n",
        "                      self.max_feature_value * 0.01,\n",
        "                      #point of expense\n",
        "                      self.max_feature_value * 0.001,]\n",
        "        \n",
        "        #extremly expensise\n",
        "        b_range_multiple = 5\n",
        "        #we dont need to take as small step as w\n",
        "        b_multiple = 5\n",
        "        \n",
        "        latest_optimum = self.max_feature_value*10\n",
        "        \n",
        "        \"\"\"\n",
        "        objective is to satisfy yi(x.w)+b>=1 for all training dataset such that ||w|| is minimum\n",
        "        for this we will start with random w, and try to satisfy it with making b bigger and bigger\n",
        "        \"\"\"\n",
        "        #making step smaller and smaller to get precise value\n",
        "        for step in step_sizes:\n",
        "            w = np.array([latest_optimum,latest_optimum])\n",
        "            \n",
        "            #we can do this because convex\n",
        "            optimized = False\n",
        "            while not optimized:\n",
        "                for b in np.arange(-1*self.max_feature_value*b_range_multiple,\n",
        "                                   self.max_feature_value*b_range_multiple,\n",
        "                                   step*b_multiple):\n",
        "                    for transformation in transforms:\n",
        "                        w_t = w*transformation\n",
        "                        found_option = True\n",
        "                        \n",
        "                        #weakest link in SVM fundamentally\n",
        "                        #SMO attempts to fix this a bit\n",
        "                        # ti(xi.w+b) >=1\n",
        "                        for i in self.data:\n",
        "                            for xi in self.data[i]:\n",
        "                                yi=i\n",
        "                                if not yi*(np.dot(w_t,xi)+b)>=1:\n",
        "                                    found_option=False\n",
        "                        if found_option:\n",
        "                            \"\"\"\n",
        "                            all points in dataset satisfy y(w.x)+b>=1 for this cuurent w_t, b\n",
        "                            then put w,b in dict with ||w|| as key\n",
        "                            \"\"\"\n",
        "                            opt_dict[np.linalg.norm(w_t)]=[w_t,b]\n",
        "                \n",
        "                #after w[0] or w[1]<0 then values of w starts repeating itself because of transformation\n",
        "                #Think about it, it is easy\n",
        "                #print(w,len(opt_dict)) Try printing to understand\n",
        "                if w[0]<0:\n",
        "                    optimized=True\n",
        "                    print(\"optimized a step\")\n",
        "                else:\n",
        "                    w = w-step\n",
        "                    \n",
        "            # sorting ||w|| to put the smallest ||w|| at poition 0 \n",
        "            norms = sorted([n for n in opt_dict])\n",
        "            #optimal values of w,b\n",
        "            opt_choice = opt_dict[norms[0]]\n",
        "\n",
        "            self.w=opt_choice[0]\n",
        "            self.b=opt_choice[1]\n",
        "            \n",
        "            #start with new latest_optimum (initial values for w)\n",
        "            latest_optimum = opt_choice[0][0]+step*2\n",
        "    \n",
        "    def predict(self,features):\n",
        "        #sign(x.w+b)\n",
        "        classification = np.sign(np.dot(np.array(features),self.w)+self.b)\n",
        "        if classification!=0 and self.visualization:\n",
        "            self.ax.scatter(features[0],features[1],s=200,marker='*',c=self.colors[classification])\n",
        "        return (classification,np.dot(np.array(features),self.w)+self.b)\n",
        "    \n",
        "    def visualize(self):\n",
        "        [[self.ax.scatter(x[0],x[1],s=100,c=self.colors[i]) for x in data_dict[i]] for i in data_dict]\n",
        "        \n",
        "        # hyperplane = x.w+b (actually its a line)\n",
        "        # v = x0.w0+x1.w1+b -> x1 = (v-w[0].x[0]-b)/w1\n",
        "        #psv = 1     psv line ->  x.w+b = 1a small value of b we will increase it later\n",
        "        #nsv = -1    nsv line ->  x.w+b = -1\n",
        "        # dec = 0    db line  ->  x.w+b = 0\n",
        "        def hyperplane(x,w,b,v):\n",
        "            #returns a x2 value on line when given x1\n",
        "            return (-w[0]*x-b+v)/w[1]\n",
        "       \n",
        "        hyp_x_min= self.min_feature_value*0.9\n",
        "        hyp_x_max = self.max_feature_value*1.1\n",
        "        \n",
        "        # (w.x+b)=1\n",
        "        # positive support vector hyperplane\n",
        "        pav1 = hyperplane(hyp_x_min,self.w,self.b,1)\n",
        "        pav2 = hyperplane(hyp_x_max,self.w,self.b,1)\n",
        "        self.ax.plot([hyp_x_min,hyp_x_max],[pav1,pav2],'k')\n",
        "        \n",
        "        # (w.x+b)=-1\n",
        "        # negative support vector hyperplane\n",
        "        nav1 = hyperplane(hyp_x_min,self.w,self.b,-1)\n",
        "        nav2 = hyperplane(hyp_x_max,self.w,self.b,-1)\n",
        "        self.ax.plot([hyp_x_min,hyp_x_max],[nav1,nav2],'k')\n",
        "        \n",
        "        # (w.x+b)=0\n",
        "        # db support vector hyperplane\n",
        "        db1 = hyperplane(hyp_x_min,self.w,self.b,0)\n",
        "        db2 = hyperplane(hyp_x_max,self.w,self.b,0)\n",
        "        self.ax.plot([hyp_x_min,hyp_x_max],[db1,db2],'y--')"
      ],
      "metadata": {
        "id": "TeIPSKmaQRjt"
      },
      "execution_count": null,
      "outputs": []
    },
    {
      "cell_type": "code",
      "source": [
        "#defining a basic data\n",
        "data_dict = {-1:np.array([[1,7],[2,8],[3,8]]),1:np.array([[5,1],[6,-1],[7,3]])}"
      ],
      "metadata": {
        "id": "IUhQXoFHQYKS"
      },
      "execution_count": null,
      "outputs": []
    },
    {
      "cell_type": "code",
      "source": [
        "svm = SVM() # Linear Kernel\n",
        "svm.fit(data=data_dict) #data=data_dict\n",
        "svm.visualize()"
      ],
      "metadata": {
        "colab": {
          "base_uri": "https://localhost:8080/",
          "height": 318
        },
        "id": "DD1g6XWiQdJz",
        "outputId": "a7dec387-eb80-42e5-88a7-2ed89d163456"
      },
      "execution_count": null,
      "outputs": [
        {
          "output_type": "stream",
          "name": "stdout",
          "text": [
            "optimized a step\n",
            "optimized a step\n",
            "optimized a step\n"
          ]
        },
        {
          "output_type": "display_data",
          "data": {
            "text/plain": [
              "<Figure size 432x288 with 1 Axes>"
            ],
            "image/png": "[encoded data removed]"
          },
          "metadata": {
            "needs_background": "light"
          }
        }
      ]
    },
    {
      "cell_type": "code",
      "source": [
        "svm.predict([3,8])"
      ],
      "metadata": {
        "colab": {
          "base_uri": "https://localhost:8080/"
        },
        "id": "SwixS2hwQlE9",
        "outputId": "1d8a56a4-a23f-458a-a937-780131a8aa34"
      },
      "execution_count": null,
      "outputs": [
        {
          "output_type": "execute_result",
          "data": {
            "text/plain": [
              "(-1.0, -1.000000000000098)"
            ]
          },
          "metadata": {},
          "execution_count": 37
        }
      ]
    }
  ]
}